{
 "cells": [
  {
   "cell_type": "code",
   "execution_count": null,
   "metadata": {
    "collapsed": true
   },
   "outputs": [],
   "source": [
    "import numpy as np\n",
    "import matplotlib.pyplot as plt\n",
    "%matplotlib inline"
   ]
  },
  {
   "cell_type": "code",
   "execution_count": null,
   "metadata": {
    "collapsed": true
   },
   "outputs": [],
   "source": [
    "# from http://colorbrewer2.org/\n",
    "colors = ['#e41a1c', '#377eb8', '#4daf4a', '#984ea3', '#ff7f00']"
   ]
  },
  {
   "cell_type": "code",
   "execution_count": null,
   "metadata": {
    "collapsed": true
   },
   "outputs": [],
   "source": [
    "twit_dim = np.array([25,  50,  100, 200])\n",
    "twit_cor = np.array([96, 106,  124, 130]) / 374.\n",
    "twit_euc = np.array([92,  97,  105, 111]) / 374.\n",
    "twit_agr = np.array([262, 227, 222, 194]) / 374.\n",
    "\n",
    "gl6b_dim = np.array([50,  100, 200, 300])\n",
    "gl6b_cor = np.array([135, 141, 155, 157]) / 374.\n",
    "gl6b_euc = np.array([121, 130, 131, 129]) / 374.\n",
    "gl6b_agr = np.array([249, 212, 209, 192]) / 374.\n",
    "\n",
    "gl42b_dim = np.array([300])\n",
    "gl42b_cor = np.array([166]) / 374.\n",
    "gl42b_euc = np.array([142]) / 374.\n",
    "gl42b_agr = np.array([193]) / 374.\n",
    "\n",
    "gl840b_dim = np.array([300])\n",
    "gl840b_cor = np.array([183]) / 374.\n",
    "gl840b_euc = np.array([135]) / 374.\n",
    "gl840b_agr = np.array([200]) / 374.\n",
    "\n",
    "w2v_dim = np.array([300])\n",
    "w2v_cor = np.array([161]) / 374.\n",
    "w2v_euc = np.array([123]) / 374.\n",
    "w2v_agr = np.array([166]) / 374."
   ]
  },
  {
   "cell_type": "code",
   "execution_count": null,
   "metadata": {
    "collapsed": false
   },
   "outputs": [],
   "source": [
    "plt.rcParams['figure.figsize'] = [6, 4]\n",
    "fig = plt.figure()\n",
    "twit, = plt.plot(twit_dim, twit_cor, '-o', label='glove.twitter', color=colors[0])\n",
    "gl6b, = plt.plot(gl6b_dim, gl6b_cor, '-o', label='glove.6B', color=colors[1])\n",
    "gl42b, = plt.plot(gl42b_dim, gl42b_cor, '-o', label='glove.42B', color=colors[2])\n",
    "gl840b, = plt.plot(gl840b_dim, gl840b_cor, '-o', label='glove.840B', color=colors[3])\n",
    "w2v, = plt.plot(w2v_dim, w2v_cor, '-o', label='GoogleNews-vectors', color=colors[4])\n",
    "handles = [gl840b, gl42b, w2v, gl6b, twit]\n",
    "plt.legend(handles=handles, loc='upper left')\n",
    "plt.ylim((0.2, 0.6))\n",
    "plt.xlim((0, 320))\n",
    "plt.ylabel('Accuracy')\n",
    "plt.xlabel('Vector Size')\n",
    "plt.title('SAT Analogy Accuracy with Word Vectors')\n",
    "fig.savefig('accuracy.png', dpi=320, bbox_inches='tight')"
   ]
  },
  {
   "cell_type": "code",
   "execution_count": null,
   "metadata": {
    "collapsed": false
   },
   "outputs": [],
   "source": [
    "plt.rcParams['figure.figsize'] = [6, 4]\n",
    "fig = plt.figure()\n",
    "twit, = plt.plot(twit_dim, twit_cor - twit_euc, '-o', label='glove.twitter', color=colors[0])\n",
    "gl6b, = plt.plot(gl6b_dim, gl6b_cor - gl6b_euc, '-o', label='glove.6B', color=colors[1])\n",
    "gl42b, = plt.plot(gl42b_dim, gl42b_cor - gl42b_euc, '-o', label='glove.42B', color=colors[2])\n",
    "gl840b, = plt.plot(gl840b_dim, gl840b_cor - gl840b_euc, '-o', label='glove.840B', color=colors[3])\n",
    "w2v, = plt.plot(w2v_dim, w2v_cor - w2v_euc, '-o', label='GoogleNews-vectors', color=colors[4])\n",
    "handles = [gl840b, w2v, gl6b, gl42b, twit]\n",
    "plt.legend(handles=handles, loc='upper left')\n",
    "plt.ylim((0, 0.15))\n",
    "plt.xlim((0, 320))\n",
    "plt.ylabel('Cosine - Euclidean SAT Analogy Accuracy')\n",
    "plt.xlabel('Vector Size')\n",
    "plt.title('Advantage of Cosine vs. Euclidean Distance')\n",
    "fig.savefig('cosine_advantage.png', dpi=320, bbox_inches='tight')"
   ]
  },
  {
   "cell_type": "code",
   "execution_count": null,
   "metadata": {
    "collapsed": false
   },
   "outputs": [],
   "source": [
    "plt.rcParams['figure.figsize'] = [6, 4]\n",
    "fig = plt.figure()\n",
    "twit, = plt.plot(twit_dim, twit_agr, '-o', label='glove.twitter', color=colors[0])\n",
    "gl6b, = plt.plot(gl6b_dim, gl6b_agr, '-o', label='glove.6B', color=colors[1])\n",
    "gl42b, = plt.plot(gl42b_dim, gl42b_agr, '-o', label='glove.42B', color=colors[2])\n",
    "gl840b, = plt.plot(gl840b_dim, gl840b_agr, '-o', label='glove.840B', color=colors[3])\n",
    "w2v, = plt.plot(w2v_dim, w2v_cor, '-o', label='GoogleNews-vectors', color=colors[4])\n",
    "handles = [twit, gl6b, gl840b, gl42b, w2v]\n",
    "plt.legend(handles=handles, loc='lower left')\n",
    "plt.ylim((0.2, 0.8))\n",
    "plt.xlim((0, 320))\n",
    "plt.ylabel('Euclidean/Cosine Agreement')\n",
    "plt.xlabel('Vector Size')\n",
    "plt.title('SAT Analogy Euclidean/Cosine Agreement')\n",
    "fig.savefig('agreement.png', dpi=320, bbox_inches='tight')"
   ]
  },
  {
   "cell_type": "code",
   "execution_count": null,
   "metadata": {
    "collapsed": true
   },
   "outputs": [],
   "source": []
  }
 ],
 "metadata": {
  "kernelspec": {
   "display_name": "Python 2",
   "language": "python",
   "name": "python2"
  },
  "language_info": {
   "codemirror_mode": {
    "name": "ipython",
    "version": 2
   },
   "file_extension": ".py",
   "mimetype": "text/x-python",
   "name": "python",
   "nbconvert_exporter": "python",
   "pygments_lexer": "ipython2",
   "version": "2.7.11"
  }
 },
 "nbformat": 4,
 "nbformat_minor": 0
}
